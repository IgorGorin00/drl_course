{
 "cells": [
  {
   "cell_type": "code",
   "execution_count": 1,
   "id": "13a1e2d7-9bbc-48d1-9e73-ed1f163e568a",
   "metadata": {},
   "outputs": [],
   "source": [
    "from Frozen_Lake import FrozenLakeEnv\n",
    "import numpy as np\n",
    "import time\n",
    "from tqdm.notebook import tqdm"
   ]
  },
  {
   "cell_type": "code",
   "execution_count": 2,
   "id": "bdd6515c-a91a-4def-9d51-baaa1e2a8731",
   "metadata": {},
   "outputs": [
    {
     "name": "stdout",
     "output_type": "stream",
     "text": [
      "0\n"
     ]
    }
   ],
   "source": [
    "env = FrozenLakeEnv()\n",
    "print(env.counter)"
   ]
  },
  {
   "cell_type": "code",
   "execution_count": 3,
   "id": "a136c0ce-ab2c-49f6-b724-5793845ffc53",
   "metadata": {},
   "outputs": [
    {
     "data": {
      "text/plain": [
       "(16, 4)"
      ]
     },
     "execution_count": 3,
     "metadata": {},
     "output_type": "execute_result"
    }
   ],
   "source": [
    "states_n = len(env.get_all_states())\n",
    "total_actions_n = 4\n",
    "\n",
    "states_n, total_actions_n"
   ]
  },
  {
   "cell_type": "code",
   "execution_count": 4,
   "id": "f016653a-0d88-429e-90f7-18b1f7dfbafc",
   "metadata": {},
   "outputs": [
    {
     "data": {
      "text/plain": [
       "{(0, 0): 0,\n",
       " (0, 1): 0,\n",
       " (0, 2): 0,\n",
       " (0, 3): 0,\n",
       " (1, 0): 0,\n",
       " (1, 1): 0,\n",
       " (1, 2): 0,\n",
       " (1, 3): 0,\n",
       " (2, 0): 0,\n",
       " (2, 1): 0,\n",
       " (2, 2): 0,\n",
       " (2, 3): 0,\n",
       " (3, 0): 0,\n",
       " (3, 1): 0,\n",
       " (3, 2): 0,\n",
       " (3, 3): 0}"
      ]
     },
     "execution_count": 4,
     "metadata": {},
     "output_type": "execute_result"
    }
   ],
   "source": [
    "def init_values(env):\n",
    "    return {state: 0 for state in env.get_all_states()}\n",
    "\n",
    "values = init_values(env)\n",
    "values"
   ]
  },
  {
   "cell_type": "markdown",
   "id": "2e417fd2-763b-4b31-9653-9946e2a1fe4f",
   "metadata": {},
   "source": [
    "iterate through actions per state:\n",
    "    find \n",
    "    reward + gamma * sum(transition_prob * values_next_state)\n",
    "    choose max\n",
    "    "
   ]
  },
  {
   "cell_type": "code",
   "execution_count": 5,
   "id": "abec2e40-a4cb-474b-ae48-e2025574eaf6",
   "metadata": {},
   "outputs": [],
   "source": [
    "def value_function(env, values, gamma):\n",
    "    state_action_dict = {}\n",
    "    for state in env.get_all_states():\n",
    "        state_action_dict[state] = {}\n",
    "        for action in env.get_possible_actions(state):\n",
    "            state_action_dict[state][action] = 0\n",
    "            for next_state in env.get_next_states(state, action):\n",
    "                reward = env.get_reward(state, action, next_state)\n",
    "                transition_prob = env.get_transition_prob(state, action, next_state)\n",
    "                next_value = values[next_state]\n",
    "                state_action_dict[state][action] += transition_prob * next_value\n",
    "                state_action_dict[state][action] += reward\n",
    "            state_action_dict[state][action] *= gamma\n",
    "        \n",
    "        if state_action_dict[state]:\n",
    "            max_action_value = max(state_action_dict[state], key=state_action_dict[state].get)\n",
    "            values[state] = state_action_dict[state][max_action_value]\n",
    "\n",
    "    return state_action_dict"
   ]
  },
  {
   "cell_type": "code",
   "execution_count": 6,
   "id": "26e7a329-07c1-4304-84dc-df50508db7ab",
   "metadata": {},
   "outputs": [],
   "source": [
    "def value_iteration(n_iterations, env, gamma):\n",
    "    values = init_values(env)\n",
    "    \n",
    "    for iteration in tqdm(range(n_iterations)):\n",
    "        state_action_dict = value_function(env, values, gamma)\n",
    "        print(f'{iteration = } \\t {env.counter = }')\n",
    "    policy = {}\n",
    "    for state in env.get_all_states():\n",
    "        if state_action_dict[state]:\n",
    "            max_action_value = max(state_action_dict[state], key=state_action_dict[state].get)\n",
    "            policy[state] = max_action_value\n",
    "    \n",
    "    return policy"
   ]
  },
  {
   "cell_type": "code",
   "execution_count": 7,
   "id": "6f1965f8-dfb6-4194-b7b3-244969eb43c1",
   "metadata": {},
   "outputs": [],
   "source": [
    "def evaluate(env, policy, vizualize=False):\n",
    "    state = env.reset()\n",
    "    for _ in range(100):\n",
    "        action = policy[state]\n",
    "        state, reward, done, _ = env.step(action)\n",
    "        if vizualize:\n",
    "            env.render()\n",
    "        if done:\n",
    "            break\n",
    "    return reward"
   ]
  },
  {
   "cell_type": "code",
   "execution_count": 8,
   "id": "3ab8dc06-23cb-452d-9e42-a7220ac7e289",
   "metadata": {},
   "outputs": [
    {
     "data": {
      "application/vnd.jupyter.widget-view+json": {
       "model_id": "3fc3d5c7b53147f1a8df33e2bf273b28",
       "version_major": 2,
       "version_minor": 0
      },
      "text/plain": [
       "  0%|          | 0/4 [00:00<?, ?it/s]"
      ]
     },
     "metadata": {},
     "output_type": "display_data"
    },
    {
     "name": "stdout",
     "output_type": "stream",
     "text": [
      "iteration = 0 \t env.counter = 748\n",
      "iteration = 1 \t env.counter = 1493\n",
      "iteration = 2 \t env.counter = 2238\n",
      "iteration = 3 \t env.counter = 2983\n"
     ]
    }
   ],
   "source": [
    "#n_iterations = states_n ** 2 * total_actions_n\n",
    "n_iterations = 4\n",
    "gamma = 0.9\n",
    "\n",
    "policy = value_iteration(n_iterations, env, gamma)"
   ]
  },
  {
   "cell_type": "code",
   "execution_count": 9,
   "id": "9828f65f-6d71-488e-809a-c224470ed1c0",
   "metadata": {},
   "outputs": [
    {
     "name": "stdout",
     "output_type": "stream",
     "text": [
      "2984 for value iteration\n"
     ]
    }
   ],
   "source": [
    "print(env.counter, 'for value iteration')"
   ]
  },
  {
   "cell_type": "code",
   "execution_count": 10,
   "id": "6c1c3f46-b092-475f-900c-c5f4af5c4cc8",
   "metadata": {},
   "outputs": [
    {
     "data": {
      "text/plain": [
       "1.0"
      ]
     },
     "execution_count": 10,
     "metadata": {},
     "output_type": "execute_result"
    }
   ],
   "source": [
    "evaluate(env, policy)"
   ]
  },
  {
   "cell_type": "code",
   "execution_count": 11,
   "id": "6df4f483-2769-49d2-8af6-8437177e866d",
   "metadata": {},
   "outputs": [
    {
     "name": "stdout",
     "output_type": "stream",
     "text": [
      "0.818\n"
     ]
    }
   ],
   "source": [
    "rewards = [evaluate(env, policy) for _ in range(1000)]\n",
    "mean_reward = sum(rewards) / len(rewards)\n",
    "print(mean_reward)"
   ]
  }
 ],
 "metadata": {
  "kernelspec": {
   "display_name": "Python 3 (ipykernel)",
   "language": "python",
   "name": "python3"
  },
  "language_info": {
   "codemirror_mode": {
    "name": "ipython",
    "version": 3
   },
   "file_extension": ".py",
   "mimetype": "text/x-python",
   "name": "python",
   "nbconvert_exporter": "python",
   "pygments_lexer": "ipython3",
   "version": "3.10.6"
  }
 },
 "nbformat": 4,
 "nbformat_minor": 5
}
