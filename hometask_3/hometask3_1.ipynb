{
 "cells": [
  {
   "cell_type": "code",
   "execution_count": 1,
   "id": "87d74bb3-fbc5-4be7-94c2-bafb5dde2bca",
   "metadata": {},
   "outputs": [],
   "source": [
    "from Frozen_Lake import FrozenLakeEnv\n",
    "import numpy as np\n",
    "import time\n",
    "from tqdm.notebook import tqdm"
   ]
  },
  {
   "cell_type": "code",
   "execution_count": 2,
   "id": "06eccf7c-daa3-407c-9d1e-7b7e72f030b2",
   "metadata": {},
   "outputs": [],
   "source": [
    "env = FrozenLakeEnv()"
   ]
  },
  {
   "cell_type": "code",
   "execution_count": 3,
   "id": "a5eec3f2-d51d-4668-9a7e-21c36e288845",
   "metadata": {},
   "outputs": [],
   "source": [
    "all_states = env.get_all_states()"
   ]
  },
  {
   "cell_type": "code",
   "execution_count": 4,
   "id": "66aea527-0b1d-4067-bf9e-4afbaf221991",
   "metadata": {},
   "outputs": [
    {
     "name": "stdout",
     "output_type": "stream",
     "text": [
      "('left', 'down', 'right', 'up')\n",
      "('left', 'down', 'right', 'up')\n",
      "('left', 'down', 'right', 'up')\n",
      "('left', 'down', 'right', 'up')\n",
      "('left', 'down', 'right', 'up')\n",
      "()\n",
      "('left', 'down', 'right', 'up')\n",
      "()\n",
      "('left', 'down', 'right', 'up')\n",
      "('left', 'down', 'right', 'up')\n",
      "('left', 'down', 'right', 'up')\n",
      "()\n",
      "()\n",
      "('left', 'down', 'right', 'up')\n",
      "('left', 'down', 'right', 'up')\n",
      "()\n"
     ]
    }
   ],
   "source": [
    "for state in all_states:\n",
    "    print(env.get_possible_actions(state))"
   ]
  },
  {
   "cell_type": "code",
   "execution_count": 5,
   "id": "32a2fa9f-4c43-4c88-96c2-19f9a1f996a1",
   "metadata": {},
   "outputs": [
    {
     "name": "stdout",
     "output_type": "stream",
     "text": [
      "*FFF\n",
      "FHFH\n",
      "FFFH\n",
      "HFFG\n",
      "\n"
     ]
    }
   ],
   "source": [
    "env.render()"
   ]
  },
  {
   "cell_type": "code",
   "execution_count": 6,
   "id": "3ebf90df-192d-4b09-9290-cd123ae27981",
   "metadata": {},
   "outputs": [
    {
     "name": "stdout",
     "output_type": "stream",
     "text": [
      "(0, 0) False\n",
      "(0, 1) False\n",
      "(0, 2) False\n",
      "(0, 3) False\n",
      "(1, 0) False\n",
      "(1, 1) True\n",
      "(1, 2) False\n",
      "(1, 3) True\n",
      "(2, 0) False\n",
      "(2, 1) False\n",
      "(2, 2) False\n",
      "(2, 3) True\n",
      "(3, 0) True\n",
      "(3, 1) False\n",
      "(3, 2) False\n",
      "(3, 3) True\n"
     ]
    }
   ],
   "source": [
    "for state in all_states:\n",
    "    print(state, env.is_terminal(state))"
   ]
  },
  {
   "cell_type": "code",
   "execution_count": 7,
   "id": "c480cd1f-ca45-45af-8be6-db62ac8395dc",
   "metadata": {},
   "outputs": [
    {
     "data": {
      "text/plain": [
       "((0, 1), 0.0, False, {})"
      ]
     },
     "execution_count": 7,
     "metadata": {},
     "output_type": "execute_result"
    }
   ],
   "source": [
    "action = 'right'\n",
    "env.step(action)"
   ]
  },
  {
   "cell_type": "code",
   "execution_count": 8,
   "id": "9da36045-63a0-4039-b7c0-e18ee037bf2e",
   "metadata": {},
   "outputs": [
    {
     "name": "stdout",
     "output_type": "stream",
     "text": [
      "S*FF\n",
      "FHFH\n",
      "FFFH\n",
      "HFFG\n",
      "\n"
     ]
    }
   ],
   "source": [
    "env.render()"
   ]
  },
  {
   "cell_type": "code",
   "execution_count": 9,
   "id": "e27a0d45-84d3-4caf-a8ca-59ff2d3d8d5e",
   "metadata": {},
   "outputs": [],
   "source": [
    "def init_policy(env):\n",
    "    policy = {}\n",
    "    for state in env.get_all_states():\n",
    "        policy[state] = {}\n",
    "        for action in env.get_possible_actions(state):\n",
    "            policy[state][action] = 1 / len(env.get_possible_actions(state))\n",
    "    return policy"
   ]
  },
  {
   "cell_type": "code",
   "execution_count": 10,
   "id": "e9804c4e-7329-4204-83be-fc41648cd21c",
   "metadata": {},
   "outputs": [],
   "source": [
    "policy = init_policy(env)"
   ]
  },
  {
   "cell_type": "code",
   "execution_count": 11,
   "id": "5d5cf327-fd3c-49fe-b2c7-268812815abe",
   "metadata": {},
   "outputs": [
    {
     "data": {
      "text/plain": [
       "{(0, 0): {'left': 0.25, 'down': 0.25, 'right': 0.25, 'up': 0.25},\n",
       " (0, 1): {'left': 0.25, 'down': 0.25, 'right': 0.25, 'up': 0.25},\n",
       " (0, 2): {'left': 0.25, 'down': 0.25, 'right': 0.25, 'up': 0.25},\n",
       " (0, 3): {'left': 0.25, 'down': 0.25, 'right': 0.25, 'up': 0.25},\n",
       " (1, 0): {'left': 0.25, 'down': 0.25, 'right': 0.25, 'up': 0.25},\n",
       " (1, 1): {},\n",
       " (1, 2): {'left': 0.25, 'down': 0.25, 'right': 0.25, 'up': 0.25},\n",
       " (1, 3): {},\n",
       " (2, 0): {'left': 0.25, 'down': 0.25, 'right': 0.25, 'up': 0.25},\n",
       " (2, 1): {'left': 0.25, 'down': 0.25, 'right': 0.25, 'up': 0.25},\n",
       " (2, 2): {'left': 0.25, 'down': 0.25, 'right': 0.25, 'up': 0.25},\n",
       " (2, 3): {},\n",
       " (3, 0): {},\n",
       " (3, 1): {'left': 0.25, 'down': 0.25, 'right': 0.25, 'up': 0.25},\n",
       " (3, 2): {'left': 0.25, 'down': 0.25, 'right': 0.25, 'up': 0.25},\n",
       " (3, 3): {}}"
      ]
     },
     "execution_count": 11,
     "metadata": {},
     "output_type": "execute_result"
    }
   ],
   "source": [
    "policy"
   ]
  },
  {
   "cell_type": "code",
   "execution_count": 12,
   "id": "e4ec7a6e-8f71-444a-a1df-dcdccf2eec7c",
   "metadata": {},
   "outputs": [],
   "source": [
    "def get_q_values(values, gamma):\n",
    "    q_values = {}\n",
    "    for state in env.get_all_states():\n",
    "        q_values[state] = {}\n",
    "        for action in env.get_possible_actions(state):\n",
    "            q_values[state][action] = 0\n",
    "            for next_state in env.get_next_states(state, action):\n",
    "                reward = env.get_reward(state, action, next_state)\n",
    "                transition_prob = env.get_transition_prob(state, action, next_state)\n",
    "                next_value = values[next_state]\n",
    "                q_values[state][action] += reward + gamma * transition_prob  * next_value\n",
    "                \n",
    "    return q_values"
   ]
  },
  {
   "cell_type": "code",
   "execution_count": 13,
   "id": "79d5360d-cc7e-4271-bc66-dabab386998c",
   "metadata": {},
   "outputs": [],
   "source": [
    "def policy_evaluation_step(policy, values, gamma):\n",
    "    q_values = get_q_values(values, gamma)\n",
    "    new_values = {}\n",
    "    for state in env.get_all_states():\n",
    "        new_values[state] = 0\n",
    "        for action in env.get_possible_actions(state):\n",
    "            new_values[state] += policy[state][action] * q_values[state][action]\n",
    "    return new_values"
   ]
  },
  {
   "cell_type": "code",
   "execution_count": 14,
   "id": "a5c36946-e1e9-4d1b-98f6-0d3606833e3d",
   "metadata": {},
   "outputs": [],
   "source": [
    "def init_values():\n",
    "    return {state: 0 for state in env.get_all_states()}"
   ]
  },
  {
   "cell_type": "code",
   "execution_count": 15,
   "id": "04ea7279-9b4a-4203-88e4-a5baabefb5c0",
   "metadata": {},
   "outputs": [],
   "source": [
    "values = init_values()"
   ]
  },
  {
   "cell_type": "code",
   "execution_count": 30,
   "id": "cdc20a60-5ce0-4965-95a7-d801c731a8e3",
   "metadata": {},
   "outputs": [
    {
     "data": {
      "text/plain": [
       "{(0, 0): 0.01188949873706471,\n",
       " (0, 1): 0.011581819099466687,\n",
       " (0, 2): 0.02918237164077384,\n",
       " (0, 3): 0.011589190820788946,\n",
       " (1, 0): 0.019156877327583893,\n",
       " (1, 1): 0,\n",
       " (1, 2): 0.07849319994372203,\n",
       " (1, 3): 0,\n",
       " (2, 0): 0.05525166977128362,\n",
       " (2, 1): 0.17214355129546768,\n",
       " (2, 2): 0.3203080358980066,\n",
       " (2, 3): 0,\n",
       " (3, 0): 0,\n",
       " (3, 1): 0.39047141755825837,\n",
       " (3, 2): 1.1738161572774712,\n",
       " (3, 3): 0}"
      ]
     },
     "execution_count": 30,
     "metadata": {},
     "output_type": "execute_result"
    }
   ],
   "source": [
    "values = policy_evaluation_step(policy, values, gamma=0.9)\n",
    "values"
   ]
  },
  {
   "cell_type": "code",
   "execution_count": 26,
   "id": "96f8e071-4721-46a0-9a0d-0b7267d60658",
   "metadata": {},
   "outputs": [],
   "source": [
    "def policy_evaluation(policy, gamma, evaluation_step_n):\n",
    "    values = init_values()\n",
    "    for _ in range(evaluation_step_n):\n",
    "        values = policy_evaluation_step(policy, values, gamma)\n",
    "    q_values = get_q_values(values, gamma)\n",
    "    return q_values"
   ]
  },
  {
   "cell_type": "code",
   "execution_count": 27,
   "id": "aa7f25a1-ff47-497e-8671-cf1cd863627d",
   "metadata": {},
   "outputs": [
    {
     "data": {
      "text/plain": [
       "{(0, 0): {'left': 0.01269467224209061,\n",
       "  'down': 0.01686835383364247,\n",
       "  'right': 0.012144295423787095,\n",
       "  'up': 0.012019806754968413},\n",
       " (0, 1): {'left': 0.010810946369242779,\n",
       "  'down': 0.003926884642953189,\n",
       "  'right': 0.02288425734125813,\n",
       "  'up': 0.013047390910454756},\n",
       " (0, 2): {'left': 0.01894863177964506,\n",
       "  'down': 0.05913279233708525,\n",
       "  'right': 0.018723477626703882,\n",
       "  'up': 0.02399617635557818},\n",
       " (0, 3): {'left': 0.022856113072140482,\n",
       "  'down': 0.0038299432715476027,\n",
       "  'right': 0.010007271128880437,\n",
       "  'up': 0.012725295386107992},\n",
       " (1, 0): {'left': 0.020770851485297476,\n",
       "  'down': 0.04215541625130152,\n",
       "  'right': 0.006251421320818339,\n",
       "  'up': 0.011485811856364976},\n",
       " (1, 1): {},\n",
       " (1, 2): {'left': 0.031600450021849,\n",
       "  'down': 0.23105940611697157,\n",
       "  'right': 0.031600450021849,\n",
       "  'up': 0.021744194057820434},\n",
       " (1, 3): {},\n",
       " (2, 0): {'left': 0.04215541625130152,\n",
       "  'down': 0.020596453163186004,\n",
       "  'right': 0.1262460665953063,\n",
       "  'up': 0.03511588332766514},\n",
       " (2, 1): {'left': 0.07554391068366469,\n",
       "  'down': 0.31555237232309863,\n",
       "  'right': 0.26626282931989464,\n",
       "  'up': 0.03392498669971415},\n",
       " (2, 2): {'left': 0.23724358232830425,\n",
       "  'down': 0.8611726382172287,\n",
       "  'right': 0.11281244450355786,\n",
       "  'up': 0.07243470226742081},\n",
       " (2, 3): {},\n",
       " (3, 0): {},\n",
       " (3, 1): {'left': 0.05075731543101636,\n",
       "  'down': 0.3873297288720264,\n",
       "  'right': 0.8963760614201517,\n",
       "  'up': 0.23013348107338832},\n",
       " (3, 2): {'left': 0.41621215463664785,\n",
       "  'down': 1.8808221691920584,\n",
       "  'right': 1.1345847690132633,\n",
       "  'up': 1.2662628293198945},\n",
       " (3, 3): {}}"
      ]
     },
     "execution_count": 27,
     "metadata": {},
     "output_type": "execute_result"
    }
   ],
   "source": [
    "q_values = policy_evaluation(policy, gamma=0.9, evaluation_step_n=100)\n",
    "q_values"
   ]
  },
  {
   "cell_type": "code",
   "execution_count": 28,
   "id": "7febf107-0f48-4a81-b6fb-214224c97518",
   "metadata": {},
   "outputs": [],
   "source": [
    "def policy_improvement(q_values):\n",
    "    new_policy = {}\n",
    "    for state in env.get_all_states():\n",
    "        new_policy[state] = {}\n",
    "        max_action = None\n",
    "        max_q_value = float('-inf')\n",
    "        for action in env.get_possible_actions(state):\n",
    "            if q_values[state][action] > max_q_value:\n",
    "                max_q_value = q_values[state][action]\n",
    "                max_action = action\n",
    "        for action in env.get_possible_actions(state):\n",
    "            new_policy[state][action] = 1 if action == max_action else 0\n",
    "    return new_policy"
   ]
  },
  {
   "cell_type": "code",
   "execution_count": 29,
   "id": "3d7d5331-0ec6-46a0-9c83-abdf3363db22",
   "metadata": {},
   "outputs": [
    {
     "data": {
      "text/plain": [
       "{(0, 0): {'left': 0, 'down': 1, 'right': 0, 'up': 0},\n",
       " (0, 1): {'left': 0, 'down': 0, 'right': 1, 'up': 0},\n",
       " (0, 2): {'left': 0, 'down': 1, 'right': 0, 'up': 0},\n",
       " (0, 3): {'left': 1, 'down': 0, 'right': 0, 'up': 0},\n",
       " (1, 0): {'left': 0, 'down': 1, 'right': 0, 'up': 0},\n",
       " (1, 1): {},\n",
       " (1, 2): {'left': 0, 'down': 1, 'right': 0, 'up': 0},\n",
       " (1, 3): {},\n",
       " (2, 0): {'left': 0, 'down': 0, 'right': 1, 'up': 0},\n",
       " (2, 1): {'left': 0, 'down': 1, 'right': 0, 'up': 0},\n",
       " (2, 2): {'left': 0, 'down': 1, 'right': 0, 'up': 0},\n",
       " (2, 3): {},\n",
       " (3, 0): {},\n",
       " (3, 1): {'left': 0, 'down': 0, 'right': 1, 'up': 0},\n",
       " (3, 2): {'left': 0, 'down': 1, 'right': 0, 'up': 0},\n",
       " (3, 3): {}}"
      ]
     },
     "execution_count": 29,
     "metadata": {},
     "output_type": "execute_result"
    }
   ],
   "source": [
    "policy_improvement(q_values)"
   ]
  },
  {
   "cell_type": "code",
   "execution_count": 37,
   "id": "877f6046-bb5d-4c32-8268-56aa699704cf",
   "metadata": {},
   "outputs": [],
   "source": [
    "epochs = 20\n",
    "evaluation_step_n = 60\n",
    "gammas = np.linspace(0, 1, 20)\n",
    "policies = []\n",
    "\n",
    "policy = init_policy(env)\n",
    "for gamma in gammas:\n",
    "    for epoch in range(epochs):\n",
    "        q_values = policy_evaluation(policy, gamma, evaluation_step_n)\n",
    "        policy = policy_improvement(q_values)\n",
    "    policies += [policy]"
   ]
  },
  {
   "cell_type": "code",
   "execution_count": 40,
   "id": "b1f1dcd7-8dca-4440-ab63-7504854e96f2",
   "metadata": {},
   "outputs": [
    {
     "data": {
      "application/vnd.jupyter.widget-view+json": {
       "model_id": "73f25f571638479d9e4f1a64b658fd71",
       "version_major": 2,
       "version_minor": 0
      },
      "text/plain": [
       "  0%|          | 0/10000 [00:00<?, ?it/s]"
      ]
     },
     "metadata": {},
     "output_type": "display_data"
    },
    {
     "name": "stdout",
     "output_type": "stream",
     "text": [
      "0.0\n"
     ]
    },
    {
     "data": {
      "application/vnd.jupyter.widget-view+json": {
       "model_id": "9e8bd63732de4254b27071e18b121c66",
       "version_major": 2,
       "version_minor": 0
      },
      "text/plain": [
       "  0%|          | 0/10000 [00:00<?, ?it/s]"
      ]
     },
     "metadata": {},
     "output_type": "display_data"
    },
    {
     "name": "stdout",
     "output_type": "stream",
     "text": [
      "0.7402\n"
     ]
    },
    {
     "data": {
      "application/vnd.jupyter.widget-view+json": {
       "model_id": "64828fa0c6c146f59d44137ab0f7e8a9",
       "version_major": 2,
       "version_minor": 0
      },
      "text/plain": [
       "  0%|          | 0/10000 [00:00<?, ?it/s]"
      ]
     },
     "metadata": {},
     "output_type": "display_data"
    },
    {
     "name": "stdout",
     "output_type": "stream",
     "text": [
      "0.7401\n"
     ]
    },
    {
     "data": {
      "application/vnd.jupyter.widget-view+json": {
       "model_id": "533071e63baa4493ba8ed3752b37b23d",
       "version_major": 2,
       "version_minor": 0
      },
      "text/plain": [
       "  0%|          | 0/10000 [00:00<?, ?it/s]"
      ]
     },
     "metadata": {},
     "output_type": "display_data"
    },
    {
     "name": "stdout",
     "output_type": "stream",
     "text": [
      "0.7424\n"
     ]
    },
    {
     "data": {
      "application/vnd.jupyter.widget-view+json": {
       "model_id": "afe440cf357040009289a56a7e441834",
       "version_major": 2,
       "version_minor": 0
      },
      "text/plain": [
       "  0%|          | 0/10000 [00:00<?, ?it/s]"
      ]
     },
     "metadata": {},
     "output_type": "display_data"
    },
    {
     "name": "stdout",
     "output_type": "stream",
     "text": [
      "0.7372\n"
     ]
    },
    {
     "data": {
      "application/vnd.jupyter.widget-view+json": {
       "model_id": "a5486ace9d04431db14a45f5cb36e1e8",
       "version_major": 2,
       "version_minor": 0
      },
      "text/plain": [
       "  0%|          | 0/10000 [00:00<?, ?it/s]"
      ]
     },
     "metadata": {},
     "output_type": "display_data"
    },
    {
     "name": "stdout",
     "output_type": "stream",
     "text": [
      "0.7438\n"
     ]
    },
    {
     "data": {
      "application/vnd.jupyter.widget-view+json": {
       "model_id": "c0b51fa357fc4495809dfd2ef1294427",
       "version_major": 2,
       "version_minor": 0
      },
      "text/plain": [
       "  0%|          | 0/10000 [00:00<?, ?it/s]"
      ]
     },
     "metadata": {},
     "output_type": "display_data"
    },
    {
     "name": "stdout",
     "output_type": "stream",
     "text": [
      "0.7382\n"
     ]
    },
    {
     "data": {
      "application/vnd.jupyter.widget-view+json": {
       "model_id": "a9141f2258884743b295f7406aad8caa",
       "version_major": 2,
       "version_minor": 0
      },
      "text/plain": [
       "  0%|          | 0/10000 [00:00<?, ?it/s]"
      ]
     },
     "metadata": {},
     "output_type": "display_data"
    },
    {
     "name": "stdout",
     "output_type": "stream",
     "text": [
      "0.7413\n"
     ]
    },
    {
     "data": {
      "application/vnd.jupyter.widget-view+json": {
       "model_id": "4b57d81d8fb54fdc9003fef21fe1e1e8",
       "version_major": 2,
       "version_minor": 0
      },
      "text/plain": [
       "  0%|          | 0/10000 [00:00<?, ?it/s]"
      ]
     },
     "metadata": {},
     "output_type": "display_data"
    },
    {
     "name": "stdout",
     "output_type": "stream",
     "text": [
      "0.7464\n"
     ]
    },
    {
     "data": {
      "application/vnd.jupyter.widget-view+json": {
       "model_id": "ab97dbc25c9644369686c107990321ed",
       "version_major": 2,
       "version_minor": 0
      },
      "text/plain": [
       "  0%|          | 0/10000 [00:00<?, ?it/s]"
      ]
     },
     "metadata": {},
     "output_type": "display_data"
    },
    {
     "name": "stdout",
     "output_type": "stream",
     "text": [
      "0.7426\n"
     ]
    },
    {
     "data": {
      "application/vnd.jupyter.widget-view+json": {
       "model_id": "5d0989a943434e368b38943e8521816a",
       "version_major": 2,
       "version_minor": 0
      },
      "text/plain": [
       "  0%|          | 0/10000 [00:00<?, ?it/s]"
      ]
     },
     "metadata": {},
     "output_type": "display_data"
    },
    {
     "name": "stdout",
     "output_type": "stream",
     "text": [
      "0.7356\n"
     ]
    },
    {
     "data": {
      "application/vnd.jupyter.widget-view+json": {
       "model_id": "659962a2a32c4f1fb7cb84e6d4acff76",
       "version_major": 2,
       "version_minor": 0
      },
      "text/plain": [
       "  0%|          | 0/10000 [00:00<?, ?it/s]"
      ]
     },
     "metadata": {},
     "output_type": "display_data"
    },
    {
     "name": "stdout",
     "output_type": "stream",
     "text": [
      "0.7414\n"
     ]
    },
    {
     "data": {
      "application/vnd.jupyter.widget-view+json": {
       "model_id": "7a1bef6974f949c2aad5648f372fab05",
       "version_major": 2,
       "version_minor": 0
      },
      "text/plain": [
       "  0%|          | 0/10000 [00:00<?, ?it/s]"
      ]
     },
     "metadata": {},
     "output_type": "display_data"
    },
    {
     "name": "stdout",
     "output_type": "stream",
     "text": [
      "0.7404\n"
     ]
    },
    {
     "data": {
      "application/vnd.jupyter.widget-view+json": {
       "model_id": "c6aa8f40c9a7433d9b165273c12bcc35",
       "version_major": 2,
       "version_minor": 0
      },
      "text/plain": [
       "  0%|          | 0/10000 [00:00<?, ?it/s]"
      ]
     },
     "metadata": {},
     "output_type": "display_data"
    },
    {
     "name": "stdout",
     "output_type": "stream",
     "text": [
      "0.7432\n"
     ]
    },
    {
     "data": {
      "application/vnd.jupyter.widget-view+json": {
       "model_id": "e0cffc0f54bf43a197286d463a5ae983",
       "version_major": 2,
       "version_minor": 0
      },
      "text/plain": [
       "  0%|          | 0/10000 [00:00<?, ?it/s]"
      ]
     },
     "metadata": {},
     "output_type": "display_data"
    },
    {
     "name": "stdout",
     "output_type": "stream",
     "text": [
      "0.7391\n"
     ]
    },
    {
     "data": {
      "application/vnd.jupyter.widget-view+json": {
       "model_id": "5036d639b9f94c2fb079dcfccb38e86a",
       "version_major": 2,
       "version_minor": 0
      },
      "text/plain": [
       "  0%|          | 0/10000 [00:00<?, ?it/s]"
      ]
     },
     "metadata": {},
     "output_type": "display_data"
    },
    {
     "name": "stdout",
     "output_type": "stream",
     "text": [
      "0.7402\n"
     ]
    },
    {
     "data": {
      "application/vnd.jupyter.widget-view+json": {
       "model_id": "3f38489ec5d94b1eb603542fa2597c65",
       "version_major": 2,
       "version_minor": 0
      },
      "text/plain": [
       "  0%|          | 0/10000 [00:00<?, ?it/s]"
      ]
     },
     "metadata": {},
     "output_type": "display_data"
    },
    {
     "name": "stdout",
     "output_type": "stream",
     "text": [
      "0.7341\n"
     ]
    },
    {
     "data": {
      "application/vnd.jupyter.widget-view+json": {
       "model_id": "e0fc74af1460498db3830364f344074f",
       "version_major": 2,
       "version_minor": 0
      },
      "text/plain": [
       "  0%|          | 0/10000 [00:00<?, ?it/s]"
      ]
     },
     "metadata": {},
     "output_type": "display_data"
    },
    {
     "name": "stdout",
     "output_type": "stream",
     "text": [
      "0.745\n"
     ]
    },
    {
     "data": {
      "application/vnd.jupyter.widget-view+json": {
       "model_id": "2f26b82d3f4b475599017094be7ddec6",
       "version_major": 2,
       "version_minor": 0
      },
      "text/plain": [
       "  0%|          | 0/10000 [00:00<?, ?it/s]"
      ]
     },
     "metadata": {},
     "output_type": "display_data"
    },
    {
     "name": "stdout",
     "output_type": "stream",
     "text": [
      "0.7391\n"
     ]
    },
    {
     "data": {
      "application/vnd.jupyter.widget-view+json": {
       "model_id": "8970b98a7f454787800feddda1871eb2",
       "version_major": 2,
       "version_minor": 0
      },
      "text/plain": [
       "  0%|          | 0/10000 [00:00<?, ?it/s]"
      ]
     },
     "metadata": {},
     "output_type": "display_data"
    },
    {
     "name": "stdout",
     "output_type": "stream",
     "text": [
      "0.8653\n"
     ]
    }
   ],
   "source": [
    "mean_rewards = []\n",
    "for policy in policies:\n",
    "    mean_reward = 0\n",
    "    for i in tqdm(range(10000), colour='blue', leave=True):\n",
    "        total_reward = 0\n",
    "        state = env.reset()\n",
    "        for _ in range(100):\n",
    "            action = np.random.choice(env.get_possible_actions(state), p=list(policy[state].values()))\n",
    "            state, reward, done, _ = env.step(action)\n",
    "            #env.render()\n",
    "            #time.sleep(0.5)\n",
    "            total_reward += reward\n",
    "\n",
    "            if done:\n",
    "                break\n",
    "\n",
    "        mean_reward += total_reward\n",
    "    mean_reward /= 10000\n",
    "    mean_rewards += [mean_reward]\n",
    "    print(mean_reward)"
   ]
  },
  {
   "cell_type": "code",
   "execution_count": 41,
   "id": "dd22a39c-131a-48e3-bd0f-a808a16b94c0",
   "metadata": {},
   "outputs": [],
   "source": [
    "import matplotlib.pyplot as plt"
   ]
  },
  {
   "cell_type": "code",
   "execution_count": 47,
   "id": "bd786492-2bf8-47e4-9486-5b3bdd3c7a9f",
   "metadata": {},
   "outputs": [
    {
     "name": "stdout",
     "output_type": "stream",
     "text": [
      "20 20\n"
     ]
    }
   ],
   "source": [
    "print(len(gammas), len(mean_rewards))"
   ]
  },
  {
   "cell_type": "code",
   "execution_count": 57,
   "id": "a7243351-efcf-40ff-9b2d-99f00be34cdc",
   "metadata": {},
   "outputs": [
    {
     "data": {
      "image/png": "[encoded data removed]",
      "text/plain": [
       "<Figure size 1500x800 with 1 Axes>"
      ]
     },
     "metadata": {},
     "output_type": "display_data"
    }
   ],
   "source": [
    "with plt.style.context('ggplot'):\n",
    "    plt.figure(figsize=(15, 8))\n",
    "    plt.plot(gammas, mean_rewards)\n",
    "    plt.scatter(gammas, mean_rewards)\n",
    "    plt.xlabel('gamma')\n",
    "    plt.ylabel('mean_reward')\n",
    "    plt.title('Gammas X Mean rewards')\n",
    "    plt.show()"
   ]
  }
 ],
 "metadata": {
  "kernelspec": {
   "display_name": "Python 3 (ipykernel)",
   "language": "python",
   "name": "python3"
  },
  "language_info": {
   "codemirror_mode": {
    "name": "ipython",
    "version": 3
   },
   "file_extension": ".py",
   "mimetype": "text/x-python",
   "name": "python",
   "nbconvert_exporter": "python",
   "pygments_lexer": "ipython3",
   "version": "3.10.6"
  }
 },
 "nbformat": 4,
 "nbformat_minor": 5
}
