{
 "cells": [
  {
   "cell_type": "code",
   "execution_count": 1,
   "id": "87d74bb3-fbc5-4be7-94c2-bafb5dde2bca",
   "metadata": {},
   "outputs": [],
   "source": [
    "from Frozen_Lake import FrozenLakeEnv"
   ]
  },
  {
   "cell_type": "code",
   "execution_count": 2,
   "id": "06eccf7c-daa3-407c-9d1e-7b7e72f030b2",
   "metadata": {},
   "outputs": [],
   "source": [
    "env = FrozenLakeEnv()"
   ]
  },
  {
   "cell_type": "code",
   "execution_count": 3,
   "id": "a5eec3f2-d51d-4668-9a7e-21c36e288845",
   "metadata": {},
   "outputs": [],
   "source": [
    "all_states = env.get_all_states()"
   ]
  },
  {
   "cell_type": "code",
   "execution_count": 4,
   "id": "66aea527-0b1d-4067-bf9e-4afbaf221991",
   "metadata": {},
   "outputs": [
    {
     "name": "stdout",
     "output_type": "stream",
     "text": [
      "(0, 0) ('left', 'down', 'right', 'up')\n",
      "(0, 1) ('left', 'down', 'right', 'up')\n",
      "(0, 2) ('left', 'down', 'right', 'up')\n",
      "(0, 3) ('left', 'down', 'right', 'up')\n",
      "(1, 0) ('left', 'down', 'right', 'up')\n",
      "(1, 1) ()\n",
      "(1, 2) ('left', 'down', 'right', 'up')\n",
      "(1, 3) ()\n",
      "(2, 0) ('left', 'down', 'right', 'up')\n",
      "(2, 1) ('left', 'down', 'right', 'up')\n",
      "(2, 2) ('left', 'down', 'right', 'up')\n",
      "(2, 3) ()\n",
      "(3, 0) ()\n",
      "(3, 1) ('left', 'down', 'right', 'up')\n",
      "(3, 2) ('left', 'down', 'right', 'up')\n",
      "(3, 3) ()\n"
     ]
    }
   ],
   "source": [
    "for state in all_states:\n",
    "    print(state, env.get_possible_actions(state))"
   ]
  },
  {
   "cell_type": "code",
   "execution_count": 5,
   "id": "3ebf90df-192d-4b09-9290-cd123ae27981",
   "metadata": {},
   "outputs": [
    {
     "name": "stdout",
     "output_type": "stream",
     "text": [
      "(0, 0) False\n",
      "(0, 1) False\n",
      "(0, 2) False\n",
      "(0, 3) False\n",
      "(1, 0) False\n",
      "(1, 1) True\n",
      "(1, 2) False\n",
      "(1, 3) True\n",
      "(2, 0) False\n",
      "(2, 1) False\n",
      "(2, 2) False\n",
      "(2, 3) True\n",
      "(3, 0) True\n",
      "(3, 1) False\n",
      "(3, 2) False\n",
      "(3, 3) True\n"
     ]
    }
   ],
   "source": [
    "for state in all_states:\n",
    "    print(state, env.is_terminal(state))"
   ]
  },
  {
   "cell_type": "code",
   "execution_count": 6,
   "id": "e27a0d45-84d3-4caf-a8ca-59ff2d3d8d5e",
   "metadata": {},
   "outputs": [],
   "source": [
    "def init_policy(env):\n",
    "    policy = {}\n",
    "    for state in env.get_all_states():\n",
    "        policy[state] = {}\n",
    "        for action in env.get_possible_actions(state):\n",
    "            policy[state][action] = 1 / len(env.get_possible_actions(state))\n",
    "    return policy"
   ]
  },
  {
   "cell_type": "code",
   "execution_count": 7,
   "id": "e9804c4e-7329-4204-83be-fc41648cd21c",
   "metadata": {},
   "outputs": [],
   "source": [
    "policy = init_policy(env)"
   ]
  },
  {
   "cell_type": "code",
   "execution_count": 8,
   "id": "79d5360d-cc7e-4271-bc66-dabab386998c",
   "metadata": {},
   "outputs": [],
   "source": [
    "def policy_evaluation_step(policy, values, gamma):\n",
    "    q_values = get_q_values(values, gamma)\n",
    "    new_values = {}\n",
    "    for state in env.get_all_states():\n",
    "        new_values[state] = 0\n",
    "        for action in env.get_possible_actions(state):\n",
    "            new_values[state] += policy[state][action] * q_values[state][action]\n",
    "    return new_values"
   ]
  },
  {
   "cell_type": "code",
   "execution_count": 9,
   "id": "a5c36946-e1e9-4d1b-98f6-0d3606833e3d",
   "metadata": {},
   "outputs": [],
   "source": [
    "def init_values():\n",
    "    return {state: 0 for state in env.get_all_states()}"
   ]
  },
  {
   "cell_type": "code",
   "execution_count": 10,
   "id": "04ea7279-9b4a-4203-88e4-a5baabefb5c0",
   "metadata": {},
   "outputs": [],
   "source": [
    "values = init_values()"
   ]
  },
  {
   "cell_type": "code",
   "execution_count": 11,
   "id": "e4ec7a6e-8f71-444a-a1df-dcdccf2eec7c",
   "metadata": {},
   "outputs": [],
   "source": [
    "def get_q_values(values, gamma):\n",
    "    q_values = {}\n",
    "    for state in env.get_all_states():\n",
    "        q_values[state] = {}\n",
    "        for action in env.get_possible_actions(state):\n",
    "            q_values[state][action] = 0\n",
    "            for next_state in env.get_next_states(state, action):\n",
    "                reward = env.get_reward(state, action, next_state)\n",
    "                transition_prob = env.get_transition_prob(state, action, next_state)\n",
    "                next_value = values[next_state]\n",
    "                q_values[state][action] += reward + gamma * transition_prob  * next_value\n",
    "                \n",
    "    return q_values"
   ]
  },
  {
   "cell_type": "code",
   "execution_count": 12,
   "id": "cdc20a60-5ce0-4965-95a7-d801c731a8e3",
   "metadata": {},
   "outputs": [
    {
     "data": {
      "text/plain": [
       "{(0, 0): 0.0,\n",
       " (0, 1): 0.0,\n",
       " (0, 2): 0.0,\n",
       " (0, 3): 0.0,\n",
       " (1, 0): 0.0,\n",
       " (1, 1): 0,\n",
       " (1, 2): 0.0,\n",
       " (1, 3): 0,\n",
       " (2, 0): 0.0,\n",
       " (2, 1): 0.0,\n",
       " (2, 2): 0.0,\n",
       " (2, 3): 0,\n",
       " (3, 0): 0,\n",
       " (3, 1): 0.0,\n",
       " (3, 2): 0.75,\n",
       " (3, 3): 0}"
      ]
     },
     "execution_count": 12,
     "metadata": {},
     "output_type": "execute_result"
    }
   ],
   "source": [
    "values = policy_evaluation_step(policy, values, gamma=0.9)\n",
    "values"
   ]
  },
  {
   "cell_type": "code",
   "execution_count": 13,
   "id": "96f8e071-4721-46a0-9a0d-0b7267d60658",
   "metadata": {},
   "outputs": [],
   "source": [
    "def policy_evaluation(policy, gamma, evaluation_step_n):\n",
    "    values = init_values()\n",
    "    for _ in range(evaluation_step_n):\n",
    "        values = policy_evaluation_step(policy, values, gamma)\n",
    "    q_values = get_q_values(values, gamma)\n",
    "    return q_values"
   ]
  },
  {
   "cell_type": "code",
   "execution_count": 14,
   "id": "aa7f25a1-ff47-497e-8671-cf1cd863627d",
   "metadata": {},
   "outputs": [
    {
     "data": {
      "text/plain": [
       "{(0, 0): {'left': 0.01269467224209061,\n",
       "  'down': 0.01686835383364247,\n",
       "  'right': 0.012144295423787095,\n",
       "  'up': 0.012019806754968413},\n",
       " (0, 1): {'left': 0.010810946369242779,\n",
       "  'down': 0.003926884642953189,\n",
       "  'right': 0.02288425734125813,\n",
       "  'up': 0.013047390910454756},\n",
       " (0, 2): {'left': 0.01894863177964506,\n",
       "  'down': 0.05913279233708525,\n",
       "  'right': 0.018723477626703882,\n",
       "  'up': 0.02399617635557818},\n",
       " (0, 3): {'left': 0.022856113072140482,\n",
       "  'down': 0.0038299432715476027,\n",
       "  'right': 0.010007271128880437,\n",
       "  'up': 0.012725295386107992},\n",
       " (1, 0): {'left': 0.020770851485297476,\n",
       "  'down': 0.04215541625130152,\n",
       "  'right': 0.006251421320818339,\n",
       "  'up': 0.011485811856364976},\n",
       " (1, 1): {},\n",
       " (1, 2): {'left': 0.031600450021849,\n",
       "  'down': 0.23105940611697157,\n",
       "  'right': 0.031600450021849,\n",
       "  'up': 0.021744194057820434},\n",
       " (1, 3): {},\n",
       " (2, 0): {'left': 0.04215541625130152,\n",
       "  'down': 0.020596453163186004,\n",
       "  'right': 0.1262460665953063,\n",
       "  'up': 0.03511588332766514},\n",
       " (2, 1): {'left': 0.07554391068366469,\n",
       "  'down': 0.31555237232309863,\n",
       "  'right': 0.26626282931989464,\n",
       "  'up': 0.03392498669971415},\n",
       " (2, 2): {'left': 0.23724358232830425,\n",
       "  'down': 0.8611726382172287,\n",
       "  'right': 0.11281244450355786,\n",
       "  'up': 0.07243470226742081},\n",
       " (2, 3): {},\n",
       " (3, 0): {},\n",
       " (3, 1): {'left': 0.05075731543101636,\n",
       "  'down': 0.3873297288720264,\n",
       "  'right': 0.8963760614201517,\n",
       "  'up': 0.23013348107338832},\n",
       " (3, 2): {'left': 0.41621215463664785,\n",
       "  'down': 1.8808221691920584,\n",
       "  'right': 1.1345847690132633,\n",
       "  'up': 1.2662628293198945},\n",
       " (3, 3): {}}"
      ]
     },
     "execution_count": 14,
     "metadata": {},
     "output_type": "execute_result"
    }
   ],
   "source": [
    "q_values = policy_evaluation(policy, gamma=0.9, evaluation_step_n=100)\n",
    "q_values"
   ]
  },
  {
   "cell_type": "code",
   "execution_count": 15,
   "id": "7febf107-0f48-4a81-b6fb-214224c97518",
   "metadata": {},
   "outputs": [],
   "source": [
    "def policy_improvement(q_values):\n",
    "    new_policy = {}\n",
    "    for state in env.get_all_states():\n",
    "        new_policy[state] = {}\n",
    "        max_action = None\n",
    "        max_q_value = float('-inf')\n",
    "        for action in env.get_possible_actions(state):\n",
    "            if q_values[state][action] > max_q_value:\n",
    "                max_q_value = q_values[state][action]\n",
    "                max_action = action\n",
    "        for action in env.get_possible_actions(state):\n",
    "            new_policy[state][action] = 1 if action == max_action else 0\n",
    "    return new_policy"
   ]
  },
  {
   "cell_type": "code",
   "execution_count": 16,
   "id": "3d7d5331-0ec6-46a0-9c83-abdf3363db22",
   "metadata": {},
   "outputs": [
    {
     "data": {
      "text/plain": [
       "{(0, 0): {'left': 0, 'down': 1, 'right': 0, 'up': 0},\n",
       " (0, 1): {'left': 0, 'down': 0, 'right': 1, 'up': 0},\n",
       " (0, 2): {'left': 0, 'down': 1, 'right': 0, 'up': 0},\n",
       " (0, 3): {'left': 1, 'down': 0, 'right': 0, 'up': 0},\n",
       " (1, 0): {'left': 0, 'down': 1, 'right': 0, 'up': 0},\n",
       " (1, 1): {},\n",
       " (1, 2): {'left': 0, 'down': 1, 'right': 0, 'up': 0},\n",
       " (1, 3): {},\n",
       " (2, 0): {'left': 0, 'down': 0, 'right': 1, 'up': 0},\n",
       " (2, 1): {'left': 0, 'down': 1, 'right': 0, 'up': 0},\n",
       " (2, 2): {'left': 0, 'down': 1, 'right': 0, 'up': 0},\n",
       " (2, 3): {},\n",
       " (3, 0): {},\n",
       " (3, 1): {'left': 0, 'down': 0, 'right': 1, 'up': 0},\n",
       " (3, 2): {'left': 0, 'down': 1, 'right': 0, 'up': 0},\n",
       " (3, 3): {}}"
      ]
     },
     "execution_count": 16,
     "metadata": {},
     "output_type": "execute_result"
    }
   ],
   "source": [
    "policy_improvement(q_values)"
   ]
  },
  {
   "cell_type": "code",
   "execution_count": 17,
   "id": "877f6046-bb5d-4c32-8268-56aa699704cf",
   "metadata": {},
   "outputs": [
    {
     "data": {
      "text/plain": [
       "{(0, 0): {'left': 0, 'down': 1, 'right': 0, 'up': 0},\n",
       " (0, 1): {'left': 0, 'down': 0, 'right': 1, 'up': 0},\n",
       " (0, 2): {'left': 0, 'down': 1, 'right': 0, 'up': 0},\n",
       " (0, 3): {'left': 1, 'down': 0, 'right': 0, 'up': 0},\n",
       " (1, 0): {'left': 0, 'down': 1, 'right': 0, 'up': 0},\n",
       " (1, 1): {},\n",
       " (1, 2): {'left': 0, 'down': 1, 'right': 0, 'up': 0},\n",
       " (1, 3): {},\n",
       " (2, 0): {'left': 0, 'down': 0, 'right': 1, 'up': 0},\n",
       " (2, 1): {'left': 0, 'down': 1, 'right': 0, 'up': 0},\n",
       " (2, 2): {'left': 0, 'down': 1, 'right': 0, 'up': 0},\n",
       " (2, 3): {},\n",
       " (3, 0): {},\n",
       " (3, 1): {'left': 0, 'down': 0, 'right': 1, 'up': 0},\n",
       " (3, 2): {'left': 0, 'down': 1, 'right': 0, 'up': 0},\n",
       " (3, 3): {}}"
      ]
     },
     "execution_count": 17,
     "metadata": {},
     "output_type": "execute_result"
    }
   ],
   "source": [
    "epochs = 20\n",
    "evaluation_step_n = 20\n",
    "gamma = 0.9\n",
    "\n",
    "policy = init_policy(env)\n",
    "for epoch in range(epochs):\n",
    "    q_values = policy_evaluation(policy, gamma, evaluation_step_n)\n",
    "    policy = policy_improvement(q_values)\n",
    "\n",
    "policy"
   ]
  },
  {
   "cell_type": "code",
   "execution_count": 18,
   "id": "b1f1dcd7-8dca-4440-ab63-7504854e96f2",
   "metadata": {},
   "outputs": [
    {
     "name": "stdout",
     "output_type": "stream",
     "text": [
      "SFFF\n",
      "*HFH\n",
      "FFFH\n",
      "HFFG\n",
      "\n",
      "SFFF\n",
      "FHFH\n",
      "*FFH\n",
      "HFFG\n",
      "\n",
      "SFFF\n",
      "FHFH\n",
      "F*FH\n",
      "HFFG\n",
      "\n",
      "SFFF\n",
      "FHFH\n",
      "FFFH\n",
      "H*FG\n",
      "\n",
      "SFFF\n",
      "FHFH\n",
      "F*FH\n",
      "HFFG\n",
      "\n",
      "SFFF\n",
      "FHFH\n",
      "FFFH\n",
      "H*FG\n",
      "\n",
      "SFFF\n",
      "FHFH\n",
      "FFFH\n",
      "HF*G\n",
      "\n",
      "SFFF\n",
      "FHFH\n",
      "FFFH\n",
      "HF*G\n",
      "\n",
      "SFFF\n",
      "FHFH\n",
      "FFFH\n",
      "HF*G\n",
      "\n",
      "SFFF\n",
      "FHFH\n",
      "FFFH\n",
      "HF*G\n",
      "\n",
      "SFFF\n",
      "FHFH\n",
      "FFFH\n",
      "HF*G\n",
      "\n",
      "SFFF\n",
      "FHFH\n",
      "FFFH\n",
      "HF*G\n",
      "\n",
      "SFFF\n",
      "FHFH\n",
      "FFFH\n",
      "H*FG\n",
      "\n",
      "SFFF\n",
      "FHFH\n",
      "FFFH\n",
      "H*FG\n",
      "\n",
      "SFFF\n",
      "FHFH\n",
      "FFFH\n",
      "HF*G\n",
      "\n",
      "SFFF\n",
      "FHFH\n",
      "FFFH\n",
      "HF*G\n",
      "\n",
      "SFFF\n",
      "FHFH\n",
      "FFFH\n",
      "HF*G\n",
      "\n",
      "SFFF\n",
      "FHFH\n",
      "FFFH\n",
      "HF*G\n",
      "\n",
      "SFFF\n",
      "FHFH\n",
      "FFFH\n",
      "H*FG\n",
      "\n",
      "SFFF\n",
      "FHFH\n",
      "FFFH\n",
      "HF*G\n",
      "\n",
      "SFFF\n",
      "FHFH\n",
      "FFFH\n",
      "HF*G\n",
      "\n",
      "SFFF\n",
      "FHFH\n",
      "FFFH\n",
      "HF*G\n",
      "\n",
      "SFFF\n",
      "FHFH\n",
      "FFFH\n",
      "HF*G\n",
      "\n",
      "SFFF\n",
      "FHFH\n",
      "FFFH\n",
      "HF*G\n",
      "\n",
      "SFFF\n",
      "FHFH\n",
      "FFFH\n",
      "HF*G\n",
      "\n",
      "SFFF\n",
      "FHFH\n",
      "FFFH\n",
      "HF*G\n",
      "\n",
      "SFFF\n",
      "FHFH\n",
      "FFFH\n",
      "HF*G\n",
      "\n",
      "SFFF\n",
      "FHFH\n",
      "FFFH\n",
      "HF*G\n",
      "\n",
      "SFFF\n",
      "FHFH\n",
      "FFFH\n",
      "HFF*\n",
      "\n",
      "1.0\n"
     ]
    }
   ],
   "source": [
    "import numpy as np\n",
    "import time\n",
    "\n",
    "\n",
    "total_reward = 0\n",
    "\n",
    "state = env.reset()\n",
    "for _ in range(100):\n",
    "    action = np.random.choice(env.get_possible_actions(state), p=list(policy[state].values()))\n",
    "    state, reward, done, _ = env.step(action)\n",
    "    env.render()\n",
    "    time.sleep(0.5)\n",
    "    total_reward += reward\n",
    "    \n",
    "    if done:\n",
    "        break\n",
    "    \n",
    "print(total_reward)"
   ]
  }
 ],
 "metadata": {
  "kernelspec": {
   "display_name": "Python 3 (ipykernel)",
   "language": "python",
   "name": "python3"
  },
  "language_info": {
   "codemirror_mode": {
    "name": "ipython",
    "version": 3
   },
   "file_extension": ".py",
   "mimetype": "text/x-python",
   "name": "python",
   "nbconvert_exporter": "python",
   "pygments_lexer": "ipython3",
   "version": "3.10.6"
  }
 },
 "nbformat": 4,
 "nbformat_minor": 5
}
